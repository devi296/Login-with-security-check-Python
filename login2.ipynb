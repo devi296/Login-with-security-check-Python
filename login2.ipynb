{
  "nbformat": 4,
  "nbformat_minor": 0,
  "metadata": {
    "colab": {
      "name": "login2.ipynb",
      "provenance": [],
      "collapsed_sections": [],
      "authorship_tag": "ABX9TyNzHw6nfK+zgou/Lh+PEwfG",
      "include_colab_link": true
    },
    "kernelspec": {
      "name": "python3",
      "display_name": "Python 3"
    },
    "language_info": {
      "name": "python"
    }
  },
  "cells": [
    {
      "cell_type": "markdown",
      "metadata": {
        "id": "view-in-github",
        "colab_type": "text"
      },
      "source": [
        "<a href=\"https://colab.research.google.com/github/devi296/Login-with-security-check-Python/blob/main/login2.ipynb\" target=\"_parent\"><img src=\"https://colab.research.google.com/assets/colab-badge.svg\" alt=\"Open In Colab\"/></a>"
      ]
    },
    {
      "cell_type": "code",
      "execution_count": null,
      "metadata": {
        "colab": {
          "base_uri": "https://localhost:8080/"
        },
        "id": "AWSBKNj4wTaX",
        "outputId": "e86b40cc-9dac-4689-e87e-3ce32d316693"
      },
      "outputs": [
        {
          "output_type": "stream",
          "name": "stdout",
          "text": [
            "\t\tLOGIN System\t\t\n",
            "\t\t 1.Login \n",
            "\t\t 2.Signup \n",
            "\t\t1\n",
            "Enter your username:frd@gmail.com\n",
            "Enter your Password:dsdsjdhj\n",
            "Password incorrect\n",
            " \n",
            " 1.Forgot Password \n",
            " 2.login again1\n",
            " your password :  Frd@296 \n",
            " please try to login again\n",
            "\t\t 1.Login \n",
            "\t\t 2.Signup \n",
            "\t\t1\n",
            "Enter your username:frd@gmail.com\n",
            "Enter your Password:Frd@296\n",
            "logged in succesfull\n"
          ]
        }
      ],
      "source": [
        "import re\n",
        "#-----Validation Functions for registration------\n",
        "def checkemail(email):\n",
        " \n",
        "    # pass the regular expression\n",
        "    # and the string into the fullmatch() method\n",
        "    re_e = r'\\b[A-Za-z0-9._%+-]+@[A-Za-z0-9.-]+\\.[A-Z|a-z]{2,}\\b'\n",
        "    if(re.fullmatch(re_e, email)):\n",
        "        return True\n",
        "    else:\n",
        "        print(\"Invalid Email\")\n",
        "        return False\n",
        "\n",
        "def checkpwd(pwd):        \n",
        "    re_p = \"^(?=.*[a-z])(?=.*[A-Z])(?=.*\\d)(?=.*[@$!%*#?&])[A-Za-z\\d@$!#%*?&]{6,20}$\"\n",
        "    var = re.compile(re_p)                \n",
        "    match = re.search(var, pwd)\n",
        "    if match:\n",
        "      return True\n",
        "    else:\n",
        "      print(\"Invalid password\")\n",
        "      print('\\t*length should be at least 6')\n",
        "      print('\\t*length should be not be greater than 16')\n",
        "      print(\"\\t*Must have minimum one special character and it should be one of these ['$', '@', '#', '%']\")  \n",
        "      print(\"\\t*Must have atleast one upper case,one lower case and a number\")\n",
        "      return False\n",
        "\n",
        "def matchpwd(pwd,cfmpwd):\n",
        "  if(pwd==cfmpwd):\n",
        "    b3=checkpwd(pwd)\n",
        "    return b3\n",
        "  else:\n",
        "    print(\"Confirm Password doesn't match with password\")  \n",
        "    return False       \n",
        "\n",
        "def filecheck(un):\n",
        "  users=[]\n",
        "  fh=open('database.txt','r')\n",
        "  lst=fh.readlines()\n",
        "  #print(lst)\n",
        "  if(len(lst)<=1):\n",
        "    return True\n",
        "  else:  \n",
        "    for i in range(1,len(lst)):\n",
        "      a,b,c=lst[i].split(\" \")\n",
        "      users.append(a)\n",
        "    #print(users) \n",
        "    if(un in users):\n",
        "      print(\"Email ID already exist..Try to login\")\n",
        "      menu()\n",
        "      return False\n",
        "    else:\n",
        "      return True  \n",
        "\n",
        "#----------------------        \n",
        "#registration\n",
        "###getting data\n",
        "def registration():\n",
        "    Username = input(\"Enter your username:\")\n",
        "    Password = input(\"Enter your Password:\")\n",
        "    Cfmpassword=  input(\"Enter your Password again:\")\n",
        "\n",
        "    ###Validating \n",
        "    b1=checkemail(Username)\n",
        "    b2=matchpwd(Password,Cfmpassword)\n",
        "    b4=filecheck(Username)\n",
        "    #print(b1,\" \",b2)\n",
        "\n",
        "    ###if all validation is true.register for login\n",
        "    if(b1==True and b2==True and b4==True):\n",
        "      str1=\"\\n\"+Username+\" \"+Password+\" \"+\"nextline\"\n",
        "      fh=open('database.txt','a')\n",
        "      fh.write(str1)\n",
        "      fh.close()\n",
        "      print(\"registered Sucessfully...login now\")\n",
        "      menu()\n",
        "\n",
        "\n",
        "#-------------------------------------\n",
        "###login\n",
        "def login():\n",
        "    users=[]\n",
        "    pd=[]\n",
        "    Username = input(\"Enter your username:\")\n",
        "    Password = input(\"Enter your Password:\")\n",
        "    fh=open('database.txt','r')\n",
        "    lst=fh.readlines()\n",
        "    for i in range(1,len(lst)):\n",
        "      a,b,c=lst[i].split(\" \")\n",
        "      users.append(a)\n",
        "      pd.append(b)\n",
        "\n",
        "    if(Username in users):\n",
        "      index = users.index(Username)  \n",
        "      if(Password == pd[index]):\n",
        "        print(\"logged in succesfull\")\n",
        "      else:\n",
        "        print(\"Password incorrect\")\n",
        "        q=input(\" \\n 1.Forgot Password \\n 2.login again\")\n",
        "        if(q=='1'):\n",
        "          retrivepwd=pd[index]\n",
        "          print(\" your password : \",retrivepwd,\"\\n please try to login again\")\n",
        "          menu()\n",
        "        elif(q=='2'):\n",
        "          menu()\n",
        "        else:\n",
        "          print(\"select a valid option\")  \n",
        "        \n",
        "    else:\n",
        "      print(\"Couldn't find the Username..Please Signup\")\n",
        "      menu()\n",
        "\n",
        "    \n",
        "#-------------------------\n",
        "print(\"\\t\\tLOGIN System\\t\\t\")\n",
        "def menu():\n",
        "    op=input(\"\\t\\t 1.Login \\n\\t\\t 2.Signup \\n\\t\\t\")\n",
        "    if(op=='1'):\n",
        "      login()\n",
        "    elif(op=='2'):\n",
        "      registration()\n",
        "    else:\n",
        "      print(\"Select a valid option\") \n",
        "      menu() \n",
        "\n",
        "menu()\n",
        "\n",
        "\n",
        "\n",
        "\n",
        "\n"
      ]
    },
    {
      "cell_type": "code",
      "source": [
        "with open('database.txt', 'r+') as read_obj:\n",
        "        # Read all lines in the file one by one\n",
        "        for line in read_obj:\n",
        "            # For each line, check if line contains the string\n",
        "            if \"frd@gmail.com\" in line:\n",
        "              print(line)\n",
        "              read_obj.writeline(\"hi how are you\")"
      ],
      "metadata": {
        "colab": {
          "base_uri": "https://localhost:8080/"
        },
        "id": "zFDFrX2G7Gsk",
        "outputId": "4ce5737a-1a35-48c1-bf84-9a26a0495340"
      },
      "execution_count": null,
      "outputs": [
        {
          "output_type": "stream",
          "name": "stdout",
          "text": [
            "frd@gmail.com Frd@296 nextline\n"
          ]
        }
      ]
    },
    {
      "cell_type": "code",
      "source": [
        "fr=open('database.txt','r+')\n",
        "data=fr.read()\n",
        "print(data)\n",
        "sds=str\n",
        "with open('database.txt', 'r+') as read_obj:\n",
        "        # Read all lines in the file one by one\n",
        "        for line in read_obj:\n",
        "            # For each line, check if line contains the string\n",
        "            if \"frd@gmail.com\" in line:\n",
        "              sds=line\n",
        "new_data=data.replace(sds,\"hi how are you\")     \n",
        "print(sds)         "
      ],
      "metadata": {
        "colab": {
          "base_uri": "https://localhost:8080/"
        },
        "id": "kU_JFYLNEYDo",
        "outputId": "06bcc78b-24eb-4d12-9b10-1cb0b5d82c40"
      },
      "execution_count": null,
      "outputs": [
        {
          "output_type": "stream",
          "name": "stdout",
          "text": [
            "\n",
            "devi@gmail.com Devi@296 nextline\n",
            "frd@gmail.com Frd@296 nextline\n",
            "aero@gm.com Ahi how are youne\n",
            "frd@gmail.com Frd@296 nextline\n",
            "\n"
          ]
        }
      ]
    }
  ]
}